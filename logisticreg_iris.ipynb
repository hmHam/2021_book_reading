{
 "cells": [
  {
   "cell_type": "code",
   "execution_count": 47,
   "metadata": {
    "scrolled": true
   },
   "outputs": [
    {
     "name": "stdout",
     "output_type": "stream",
     "text": [
      "Accuracy: 45/45 = 1.0\n"
     ]
    }
   ],
   "source": [
    "import logisticreg\n",
    "import csv\n",
    "import numpy as np\n",
    "import random\n",
    "\n",
    "\n",
    "n_test = 45\n",
    "X = []\n",
    "y = []\n",
    "with open(\"iris.data\") as fp:\n",
    "    for row in csv.reader(fp):\n",
    "        if row[4] == \"Iris-setosa\":\n",
    "            y.append(0)\n",
    "            X.append(row[:-1])\n",
    "        elif row[4] == \"Iris-versicolor\":\n",
    "            i = random.randint(0, len(y))\n",
    "            y.insert(i,1)\n",
    "            X.insert(i,row[:-1])\n",
    "        else:\n",
    "            break\n",
    "        \n",
    "y = np.array(y, dtype=np.float64)\n",
    "X = np.array(X, dtype=np.float64)\n",
    "y_train = y[:-n_test]\n",
    "X_train = X[:-n_test]\n",
    "y_test = y[-n_test:]\n",
    "X_test = X[-n_test:]\n",
    "model = logisticreg.LogisticRegression(tol=0.01)\n",
    "model.fit(X_train, y_train)\n",
    "\n",
    "y_predict = model.predict(X_test)\n",
    "n_hits = (y_test == y_predict).sum()\n",
    "print(\"Accuracy: {}/{} = {}\".format(n_hits, n_test, n_hits/n_test))"
   ]
  },
  {
   "cell_type": "code",
   "execution_count": 41,
   "metadata": {},
   "outputs": [
    {
     "name": "stdout",
     "output_type": "stream",
     "text": [
      "[['5.7', '2.8', '4.5', '1.3'], ['5.1', '3.5', '1.4', '0.2'], ['5.5', '2.3', '4.0', '1.3'], ['5.7', '2.8', '4.1', '1.3'], ['5.8', '2.6', '4.0', '1.2'], ['4.9', '3.0', '1.4', '0.2'], ['6.7', '3.1', '4.4', '1.4'], ['6.6', '2.9', '4.6', '1.3'], ['4.7', '3.2', '1.3', '0.2'], ['6.3', '3.3', '4.7', '1.6'], ['4.6', '3.1', '1.5', '0.2'], ['5.6', '3.0', '4.5', '1.5'], ['6.5', '2.8', '4.6', '1.5'], ['5.0', '3.6', '1.4', '0.2'], ['5.4', '3.9', '1.7', '0.4'], ['4.6', '3.4', '1.4', '0.3'], ['5.0', '3.4', '1.5', '0.2'], ['4.4', '2.9', '1.4', '0.2'], ['5.6', '2.5', '3.9', '1.1'], ['4.9', '3.1', '1.5', '0.1'], ['5.9', '3.0', '4.2', '1.5'], ['5.4', '3.7', '1.5', '0.2'], ['5.6', '2.7', '4.2', '1.3'], ['5.2', '2.7', '3.9', '1.4'], ['5.0', '2.0', '3.5', '1.0'], ['5.5', '2.4', '3.7', '1.0'], ['6.1', '3.0', '4.6', '1.4'], ['4.8', '3.4', '1.6', '0.2'], ['4.8', '3.0', '1.4', '0.1'], ['4.3', '3.0', '1.1', '0.1'], ['6.3', '2.3', '4.4', '1.3'], ['5.8', '4.0', '1.2', '0.2'], ['4.9', '2.4', '3.3', '1.0'], ['5.1', '2.5', '3.0', '1.1'], ['6.0', '2.7', '5.1', '1.6'], ['5.7', '4.4', '1.5', '0.4'], ['6.6', '3.0', '4.4', '1.4'], ['5.4', '3.9', '1.3', '0.4'], ['5.0', '2.3', '3.3', '1.0'], ['5.1', '3.5', '1.4', '0.3'], ['5.7', '3.8', '1.7', '0.3'], ['5.5', '2.5', '4.0', '1.3'], ['5.1', '3.8', '1.5', '0.3'], ['5.4', '3.4', '1.7', '0.2'], ['5.6', '3.0', '4.1', '1.3'], ['5.1', '3.7', '1.5', '0.4'], ['6.7', '3.0', '5.0', '1.7'], ['4.6', '3.6', '1.0', '0.2'], ['6.3', '2.5', '4.9', '1.5'], ['5.1', '3.3', '1.7', '0.5'], ['5.7', '2.9', '4.2', '1.3'], ['4.8', '3.4', '1.9', '0.2'], ['5.0', '3.0', '1.6', '0.2'], ['5.7', '3.0', '4.2', '1.2'], ['5.4', '3.0', '4.5', '1.5'], ['6.2', '2.9', '4.3', '1.3'], ['5.0', '3.4', '1.6', '0.4'], ['6.2', '2.2', '4.5', '1.5'], ['6.8', '2.8', '4.8', '1.4'], ['6.9', '3.1', '4.9', '1.5'], ['7.0', '3.2', '4.7', '1.4'], ['5.2', '3.5', '1.5', '0.2'], ['5.2', '3.4', '1.4', '0.2'], ['4.7', '3.2', '1.6', '0.2'], ['4.8', '3.1', '1.6', '0.2'], ['6.4', '2.9', '4.3', '1.3'], ['5.5', '2.4', '3.8', '1.1'], ['6.1', '2.8', '4.0', '1.3'], ['5.4', '3.4', '1.5', '0.4'], ['6.4', '3.2', '4.5', '1.5'], ['5.2', '4.1', '1.5', '0.1'], ['5.8', '2.7', '4.1', '1.0'], ['5.5', '4.2', '1.4', '0.2'], ['6.0', '2.9', '4.5', '1.5'], ['6.0', '2.2', '4.0', '1.0'], ['4.9', '3.1', '1.5', '0.1'], ['5.8', '2.7', '3.9', '1.2'], ['6.7', '3.1', '4.7', '1.5'], ['5.0', '3.2', '1.2', '0.2'], ['5.5', '3.5', '1.3', '0.2'], ['4.9', '3.1', '1.5', '0.1'], ['5.9', '3.2', '4.8', '1.8'], ['6.0', '3.4', '4.5', '1.6'], ['4.4', '3.0', '1.3', '0.2'], ['5.1', '3.4', '1.5', '0.2'], ['5.0', '3.5', '1.3', '0.3'], ['5.5', '2.6', '4.4', '1.2'], ['4.5', '2.3', '1.3', '0.3'], ['4.4', '3.2', '1.3', '0.2'], ['5.0', '3.5', '1.6', '0.6'], ['5.1', '3.8', '1.9', '0.4'], ['4.8', '3.0', '1.4', '0.3'], ['5.1', '3.8', '1.6', '0.2'], ['5.6', '2.9', '3.6', '1.3'], ['5.7', '2.6', '3.5', '1.0'], ['6.1', '2.8', '4.7', '1.2'], ['4.6', '3.2', '1.4', '0.2'], ['5.3', '3.7', '1.5', '0.2'], ['6.1', '2.9', '4.7', '1.4'], ['5.0', '3.3', '1.4', '0.2']]\n"
     ]
    }
   ],
   "source": [
    "import csv\n",
    "\n",
    "y = []\n",
    "X = []\n",
    "\n",
    "with open(\"iris.data\") as fp:\n",
    "    for row in csv.reader(fp):\n",
    "        if row[4] == \"Iris-setosa\":\n",
    "            y.append(0)\n",
    "            X.append(row[:-1])\n",
    "        elif row[4] == \"Iris-versicolor\":\n",
    "            y.insert(random.randint(0, len(y)),1)\n",
    "            X.insert(random.randint(0, len(X)),row[:-1])\n",
    "        else:\n",
    "            break\n",
    "print(X)"
   ]
  },
  {
   "cell_type": "code",
   "execution_count": 4,
   "metadata": {},
   "outputs": [
    {
     "name": "stdout",
     "output_type": "stream",
     "text": [
      "Accuracy: 97/100 = 0.97\n"
     ]
    },
    {
     "name": "stderr",
     "output_type": "stream",
     "text": [
      "C:\\Users\\mistu\\Essence\\logisticreg.py:13: RuntimeWarning: overflow encountered in exp\n",
      "  return (1 / (1 + np.exp(-x)))\n"
     ]
    }
   ],
   "source": [
    "import logisticreg\n",
    "import csv\n",
    "import numpy as np\n",
    "\n",
    "\n",
    "n_test = 100\n",
    "X = []\n",
    "y = []\n",
    "with open(\"wdbc.data\") as fp:\n",
    "    for row in csv.reader(fp):\n",
    "        if row[1] == \"B\":\n",
    "            y.append(0)\n",
    "        else:\n",
    "            y.append(1)\n",
    "        X.append(row[2:])\n",
    "        \n",
    "y = np.array(y, dtype=np.float64)\n",
    "X = np.array(X, dtype=np.float64)\n",
    "y_train = y[:-n_test]\n",
    "X_train = X[:-n_test]\n",
    "y_test = y[-n_test:]\n",
    "X_test = X[-n_test:]\n",
    "model = logisticreg.LogisticRegression(tol=0.01)\n",
    "model.fit(X_train, y_train)\n",
    "\n",
    "y_predict = model.predict(X_test)\n",
    "n_hits = (y_test == y_predict).sum()\n",
    "print(\"Accuracy: {}/{} = {}\".format(n_hits, n_test, n_hits/n_test))"
   ]
  },
  {
   "cell_type": "code",
   "execution_count": null,
   "metadata": {},
   "outputs": [],
   "source": []
  }
 ],
 "metadata": {
  "kernelspec": {
   "display_name": "Python 3",
   "language": "python",
   "name": "python3"
  },
  "language_info": {
   "codemirror_mode": {
    "name": "ipython",
    "version": 3
   },
   "file_extension": ".py",
   "mimetype": "text/x-python",
   "name": "python",
   "nbconvert_exporter": "python",
   "pygments_lexer": "ipython3",
   "version": "3.8.5"
  }
 },
 "nbformat": 4,
 "nbformat_minor": 4
}
